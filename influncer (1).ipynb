{
 "cells": [
  {
   "cell_type": "code",
   "execution_count": 44,
   "id": "9b2ec85f",
   "metadata": {},
   "outputs": [],
   "source": [
    "import pandas as pd"
   ]
  },
  {
   "cell_type": "code",
   "execution_count": 49,
   "id": "fa311b2a",
   "metadata": {},
   "outputs": [],
   "source": [
    "df1=pd.read_csv(\"/Users/anandkoti/Downloads/social media influencers - Tiktok sep 2022.csv\")"
   ]
  },
  {
   "cell_type": "code",
   "execution_count": 50,
   "id": "982748b6",
   "metadata": {},
   "outputs": [
    {
     "data": {
      "text/plain": [
       "Index(['S.no', 'Tiktoker name', 'Tiktok name', 'Subscribers', 'Views avg.',\n",
       "       'Likes avg.', 'Comments avg.', 'Shares avg.'],\n",
       "      dtype='object')"
      ]
     },
     "execution_count": 50,
     "metadata": {},
     "output_type": "execute_result"
    }
   ],
   "source": [
    "df1.columns"
   ]
  },
  {
   "cell_type": "code",
   "execution_count": 51,
   "id": "32c28136",
   "metadata": {},
   "outputs": [
    {
     "data": {
      "text/html": [
       "<div>\n",
       "<style scoped>\n",
       "    .dataframe tbody tr th:only-of-type {\n",
       "        vertical-align: middle;\n",
       "    }\n",
       "\n",
       "    .dataframe tbody tr th {\n",
       "        vertical-align: top;\n",
       "    }\n",
       "\n",
       "    .dataframe thead th {\n",
       "        text-align: right;\n",
       "    }\n",
       "</style>\n",
       "<table border=\"1\" class=\"dataframe\">\n",
       "  <thead>\n",
       "    <tr style=\"text-align: right;\">\n",
       "      <th></th>\n",
       "      <th>S.no</th>\n",
       "      <th>Tiktoker name</th>\n",
       "      <th>Tiktok name</th>\n",
       "      <th>Subscribers</th>\n",
       "      <th>Views avg.</th>\n",
       "      <th>Likes avg.</th>\n",
       "      <th>Comments avg.</th>\n",
       "      <th>Shares avg.</th>\n",
       "    </tr>\n",
       "  </thead>\n",
       "  <tbody>\n",
       "    <tr>\n",
       "      <th>0</th>\n",
       "      <td>1</td>\n",
       "      <td>jypestraykids</td>\n",
       "      <td>Stray Kids</td>\n",
       "      <td>13.8M</td>\n",
       "      <td>6.4M</td>\n",
       "      <td>2.3M</td>\n",
       "      <td>50.2K</td>\n",
       "      <td>34.2K</td>\n",
       "    </tr>\n",
       "    <tr>\n",
       "      <th>1</th>\n",
       "      <td>2</td>\n",
       "      <td>khaby.lame</td>\n",
       "      <td>Khabane lame</td>\n",
       "      <td>149.2M</td>\n",
       "      <td>17.3M</td>\n",
       "      <td>2.3M</td>\n",
       "      <td>15.2K</td>\n",
       "      <td>8.7K</td>\n",
       "    </tr>\n",
       "    <tr>\n",
       "      <th>2</th>\n",
       "      <td>3</td>\n",
       "      <td>scarlettsspam2</td>\n",
       "      <td>scarlett</td>\n",
       "      <td>2.1M</td>\n",
       "      <td>17.9M</td>\n",
       "      <td>845.8K</td>\n",
       "      <td>53.9K</td>\n",
       "      <td>6.3K</td>\n",
       "    </tr>\n",
       "    <tr>\n",
       "      <th>3</th>\n",
       "      <td>4</td>\n",
       "      <td>addisonre</td>\n",
       "      <td>Addison Rae</td>\n",
       "      <td>88.7M</td>\n",
       "      <td>22M</td>\n",
       "      <td>906.6K</td>\n",
       "      <td>7.6K</td>\n",
       "      <td>26.2K</td>\n",
       "    </tr>\n",
       "    <tr>\n",
       "      <th>4</th>\n",
       "      <td>5</td>\n",
       "      <td>belindatok</td>\n",
       "      <td>Belinda</td>\n",
       "      <td>4.8M</td>\n",
       "      <td>14.2M</td>\n",
       "      <td>1.5M</td>\n",
       "      <td>14.5K</td>\n",
       "      <td>15.3K</td>\n",
       "    </tr>\n",
       "  </tbody>\n",
       "</table>\n",
       "</div>"
      ],
      "text/plain": [
       "   S.no   Tiktoker name   Tiktok name Subscribers Views avg. Likes avg.   \n",
       "0     1   jypestraykids    Stray Kids       13.8M       6.4M       2.3M  \\\n",
       "1     2      khaby.lame  Khabane lame      149.2M      17.3M       2.3M   \n",
       "2     3  scarlettsspam2      scarlett        2.1M      17.9M     845.8K   \n",
       "3     4       addisonre   Addison Rae       88.7M        22M     906.6K   \n",
       "4     5      belindatok       Belinda        4.8M      14.2M       1.5M   \n",
       "\n",
       "  Comments avg. Shares avg.  \n",
       "0         50.2K       34.2K  \n",
       "1         15.2K        8.7K  \n",
       "2         53.9K        6.3K  \n",
       "3          7.6K       26.2K  \n",
       "4         14.5K       15.3K  "
      ]
     },
     "execution_count": 51,
     "metadata": {},
     "output_type": "execute_result"
    }
   ],
   "source": [
    "df1.head()"
   ]
  },
  {
   "cell_type": "code",
   "execution_count": 52,
   "id": "bcd6218b",
   "metadata": {},
   "outputs": [
    {
     "data": {
      "text/plain": [
       "S.no             0\n",
       "Tiktoker name    0\n",
       "Tiktok name      1\n",
       "Subscribers      0\n",
       "Views avg.       0\n",
       "Likes avg.       0\n",
       "Comments avg.    0\n",
       "Shares avg.      0\n",
       "dtype: int64"
      ]
     },
     "execution_count": 52,
     "metadata": {},
     "output_type": "execute_result"
    }
   ],
   "source": [
    "df1.isnull().sum()"
   ]
  },
  {
   "cell_type": "code",
   "execution_count": 53,
   "id": "17444cee",
   "metadata": {},
   "outputs": [
    {
     "data": {
      "text/plain": [
       "<bound method DataFrame.info of      S.no   Tiktoker name    Tiktok name Subscribers Views avg. Likes avg.   \n",
       "0       1   jypestraykids     Stray Kids       13.8M       6.4M       2.3M  \\\n",
       "1       2      khaby.lame   Khabane lame      149.2M      17.3M       2.3M   \n",
       "2       3  scarlettsspam2       scarlett        2.1M      17.9M     845.8K   \n",
       "3       4       addisonre    Addison Rae       88.7M        22M     906.6K   \n",
       "4       5      belindatok        Belinda        4.8M      14.2M       1.5M   \n",
       "..    ...             ...            ...         ...        ...        ...   \n",
       "995   996    brendadialoy  Brenda Dialoy      371.9K       1.2M     187.5K   \n",
       "996   997     jujufitcats   Juju Fitcats        4.3M       2.2M     280.8K   \n",
       "997   998          xoteam        XO Team       37.8M       2.5M     180.2K   \n",
       "998   999        kimsnwuo             ️️      100.9K     957.4K     226.8K   \n",
       "999  1000        jass_mcg       jass_mcg       52.2K     503.8K       116K   \n",
       "\n",
       "    Comments avg. Shares avg.  \n",
       "0           50.2K       34.2K  \n",
       "1           15.2K        8.7K  \n",
       "2           53.9K        6.3K  \n",
       "3            7.6K       26.2K  \n",
       "4           14.5K       15.3K  \n",
       "..            ...         ...  \n",
       "995           626          2K  \n",
       "996           380         558  \n",
       "997           859         450  \n",
       "998           908        1.7K  \n",
       "999          8.1K        1.8K  \n",
       "\n",
       "[1000 rows x 8 columns]>"
      ]
     },
     "execution_count": 53,
     "metadata": {},
     "output_type": "execute_result"
    }
   ],
   "source": [
    "df1.info"
   ]
  },
  {
   "cell_type": "code",
   "execution_count": 54,
   "id": "e4aee135",
   "metadata": {},
   "outputs": [],
   "source": [
    "df1[' Subscribers'] = df1[ 'Subscribers'] "
   ]
  },
  {
   "cell_type": "code",
   "execution_count": 55,
   "id": "52febcb0",
   "metadata": {},
   "outputs": [
    {
     "data": {
      "text/html": [
       "<div>\n",
       "<style scoped>\n",
       "    .dataframe tbody tr th:only-of-type {\n",
       "        vertical-align: middle;\n",
       "    }\n",
       "\n",
       "    .dataframe tbody tr th {\n",
       "        vertical-align: top;\n",
       "    }\n",
       "\n",
       "    .dataframe thead th {\n",
       "        text-align: right;\n",
       "    }\n",
       "</style>\n",
       "<table border=\"1\" class=\"dataframe\">\n",
       "  <thead>\n",
       "    <tr style=\"text-align: right;\">\n",
       "      <th></th>\n",
       "      <th>S.no</th>\n",
       "      <th>Tiktoker name</th>\n",
       "      <th>Tiktok name</th>\n",
       "      <th>Subscribers</th>\n",
       "      <th>Views avg.</th>\n",
       "      <th>Likes avg.</th>\n",
       "      <th>Comments avg.</th>\n",
       "      <th>Shares avg.</th>\n",
       "      <th>Subscribers</th>\n",
       "    </tr>\n",
       "  </thead>\n",
       "  <tbody>\n",
       "    <tr>\n",
       "      <th>0</th>\n",
       "      <td>1</td>\n",
       "      <td>jypestraykids</td>\n",
       "      <td>Stray Kids</td>\n",
       "      <td>13.8M</td>\n",
       "      <td>6.4M</td>\n",
       "      <td>2.3M</td>\n",
       "      <td>50.2K</td>\n",
       "      <td>34.2K</td>\n",
       "      <td>13.8M</td>\n",
       "    </tr>\n",
       "    <tr>\n",
       "      <th>1</th>\n",
       "      <td>2</td>\n",
       "      <td>khaby.lame</td>\n",
       "      <td>Khabane lame</td>\n",
       "      <td>149.2M</td>\n",
       "      <td>17.3M</td>\n",
       "      <td>2.3M</td>\n",
       "      <td>15.2K</td>\n",
       "      <td>8.7K</td>\n",
       "      <td>149.2M</td>\n",
       "    </tr>\n",
       "    <tr>\n",
       "      <th>2</th>\n",
       "      <td>3</td>\n",
       "      <td>scarlettsspam2</td>\n",
       "      <td>scarlett</td>\n",
       "      <td>2.1M</td>\n",
       "      <td>17.9M</td>\n",
       "      <td>845.8K</td>\n",
       "      <td>53.9K</td>\n",
       "      <td>6.3K</td>\n",
       "      <td>2.1M</td>\n",
       "    </tr>\n",
       "    <tr>\n",
       "      <th>3</th>\n",
       "      <td>4</td>\n",
       "      <td>addisonre</td>\n",
       "      <td>Addison Rae</td>\n",
       "      <td>88.7M</td>\n",
       "      <td>22M</td>\n",
       "      <td>906.6K</td>\n",
       "      <td>7.6K</td>\n",
       "      <td>26.2K</td>\n",
       "      <td>88.7M</td>\n",
       "    </tr>\n",
       "    <tr>\n",
       "      <th>4</th>\n",
       "      <td>5</td>\n",
       "      <td>belindatok</td>\n",
       "      <td>Belinda</td>\n",
       "      <td>4.8M</td>\n",
       "      <td>14.2M</td>\n",
       "      <td>1.5M</td>\n",
       "      <td>14.5K</td>\n",
       "      <td>15.3K</td>\n",
       "      <td>4.8M</td>\n",
       "    </tr>\n",
       "  </tbody>\n",
       "</table>\n",
       "</div>"
      ],
      "text/plain": [
       "   S.no   Tiktoker name   Tiktok name Subscribers Views avg. Likes avg.   \n",
       "0     1   jypestraykids    Stray Kids       13.8M       6.4M       2.3M  \\\n",
       "1     2      khaby.lame  Khabane lame      149.2M      17.3M       2.3M   \n",
       "2     3  scarlettsspam2      scarlett        2.1M      17.9M     845.8K   \n",
       "3     4       addisonre   Addison Rae       88.7M        22M     906.6K   \n",
       "4     5      belindatok       Belinda        4.8M      14.2M       1.5M   \n",
       "\n",
       "  Comments avg. Shares avg.  Subscribers  \n",
       "0         50.2K       34.2K        13.8M  \n",
       "1         15.2K        8.7K       149.2M  \n",
       "2         53.9K        6.3K         2.1M  \n",
       "3          7.6K       26.2K        88.7M  \n",
       "4         14.5K       15.3K         4.8M  "
      ]
     },
     "execution_count": 55,
     "metadata": {},
     "output_type": "execute_result"
    }
   ],
   "source": [
    "df1.head()"
   ]
  },
  {
   "cell_type": "code",
   "execution_count": 56,
   "id": "99e748b0",
   "metadata": {},
   "outputs": [],
   "source": [
    "def convert_to_float(value):\n",
    "    if isinstance(value, str):\n",
    "        value = value.replace(',', '')  # Remove commas\n",
    "        if 'M' in value:\n",
    "            return float(value.replace('M', '')) * 1e6\n",
    "        elif 'K' in value:\n",
    "            return float(value.replace('K', '')) * 1e3\n",
    "        else:\n",
    "            return float(value)\n",
    "    return np.nan \n",
    "df1['Subscribers'] = df1['Subscribers'].apply(convert_to_float)\n",
    "df1['Views avg.'] = df1['Views avg.'].apply(convert_to_float)\n",
    "df1['Shares avg.'] = df1['Shares avg.'].apply(convert_to_float)\n",
    "df1['Likes avg.'] = df1['Likes avg.'].apply(convert_to_float)\n",
    "df1['Comments avg.'] = df1['Comments avg.'].apply(convert_to_float)\n",
    "\n",
    "# Optionally, handle NaN values if needed\n",
    "\n",
    "# Proceed with your data processing or modeling\n"
   ]
  },
  {
   "cell_type": "code",
   "execution_count": 57,
   "id": "8b634a4f",
   "metadata": {},
   "outputs": [],
   "source": [
    "df1['Subscribers'] = df1['Subscribers'].astype(str).replace('.', '')\n",
    "df1['Views avg.'] = df1['Views avg.'].astype(str).replace('.', '')\n",
    "df1['Shares avg.'] =df1['Shares avg.'].astype(str).replace('.', '')\n",
    "df1['Likes avg.'] =df1['Likes avg.'].astype(str).replace('.', '')\n",
    "df1['Comments avg.'] =df1['Comments avg.'].astype(str).replace('.', '')\n",
    "# Convert the column to string type and handle NaNs\n",
    "df1['Views avg.'] = pd.to_numeric(df1['Views avg.'], errors='coerce')\n",
    "df1['Shares avg.'] = pd.to_numeric(df1['Shares avg.'], errors='coerce')\n",
    "df1['Likes avg.'] = pd.to_numeric(df1['Likes avg.'], errors='coerce')\n",
    "df1['Comments avg.'] = pd.to_numeric(df1['Comments avg.'], errors='coerce')\n",
    "\n"
   ]
  },
  {
   "cell_type": "code",
   "execution_count": 58,
   "id": "37eab2ab",
   "metadata": {},
   "outputs": [],
   "source": [
    "#nanoinflunce means having follwoer less than 1m\n",
    "nano_inf= df1[(df1['Subscribers'] <= '1M')]"
   ]
  },
  {
   "cell_type": "code",
   "execution_count": 59,
   "id": "fb3682c0",
   "metadata": {},
   "outputs": [],
   "source": [
    "#microinfluncer means having subscriber lessthan 5mand higherthan 1m\n",
    "micro_inf = df1[(df1['Subscribers'] >= '1M') & (df1['Subscribers'] <= '5M')]\n"
   ]
  },
  {
   "cell_type": "code",
   "execution_count": 60,
   "id": "a20ea2fc",
   "metadata": {},
   "outputs": [
    {
     "data": {
      "text/html": [
       "<div>\n",
       "<style scoped>\n",
       "    .dataframe tbody tr th:only-of-type {\n",
       "        vertical-align: middle;\n",
       "    }\n",
       "\n",
       "    .dataframe tbody tr th {\n",
       "        vertical-align: top;\n",
       "    }\n",
       "\n",
       "    .dataframe thead th {\n",
       "        text-align: right;\n",
       "    }\n",
       "</style>\n",
       "<table border=\"1\" class=\"dataframe\">\n",
       "  <thead>\n",
       "    <tr style=\"text-align: right;\">\n",
       "      <th></th>\n",
       "      <th>S.no</th>\n",
       "      <th>Tiktoker name</th>\n",
       "      <th>Tiktok name</th>\n",
       "      <th>Subscribers</th>\n",
       "      <th>Views avg.</th>\n",
       "      <th>Likes avg.</th>\n",
       "      <th>Comments avg.</th>\n",
       "      <th>Shares avg.</th>\n",
       "      <th>Subscribers</th>\n",
       "    </tr>\n",
       "  </thead>\n",
       "  <tbody>\n",
       "    <tr>\n",
       "      <th>0</th>\n",
       "      <td>1</td>\n",
       "      <td>jypestraykids</td>\n",
       "      <td>Stray Kids</td>\n",
       "      <td>13800000.0</td>\n",
       "      <td>6400000.0</td>\n",
       "      <td>2300000.0</td>\n",
       "      <td>50200.0</td>\n",
       "      <td>34200.0</td>\n",
       "      <td>13.8M</td>\n",
       "    </tr>\n",
       "    <tr>\n",
       "      <th>1</th>\n",
       "      <td>2</td>\n",
       "      <td>khaby.lame</td>\n",
       "      <td>Khabane lame</td>\n",
       "      <td>149200000.0</td>\n",
       "      <td>17300000.0</td>\n",
       "      <td>2300000.0</td>\n",
       "      <td>15200.0</td>\n",
       "      <td>8700.0</td>\n",
       "      <td>149.2M</td>\n",
       "    </tr>\n",
       "    <tr>\n",
       "      <th>10</th>\n",
       "      <td>11</td>\n",
       "      <td>charlidamelio</td>\n",
       "      <td>charli d’amelio</td>\n",
       "      <td>146200000.0</td>\n",
       "      <td>15200000.0</td>\n",
       "      <td>959400.0</td>\n",
       "      <td>20800.0</td>\n",
       "      <td>4600.0</td>\n",
       "      <td>146.2M</td>\n",
       "    </tr>\n",
       "    <tr>\n",
       "      <th>11</th>\n",
       "      <td>12</td>\n",
       "      <td>amauryguichon</td>\n",
       "      <td>Amaury Guichon</td>\n",
       "      <td>14500000.0</td>\n",
       "      <td>11400000.0</td>\n",
       "      <td>1500000.0</td>\n",
       "      <td>7200.0</td>\n",
       "      <td>11800.0</td>\n",
       "      <td>14.5M</td>\n",
       "    </tr>\n",
       "    <tr>\n",
       "      <th>13</th>\n",
       "      <td>14</td>\n",
       "      <td>kervo.dolo</td>\n",
       "      <td>Kervo.dolo</td>\n",
       "      <td>10300000.0</td>\n",
       "      <td>5700000.0</td>\n",
       "      <td>1300000.0</td>\n",
       "      <td>7900.0</td>\n",
       "      <td>27600.0</td>\n",
       "      <td>10.3M</td>\n",
       "    </tr>\n",
       "  </tbody>\n",
       "</table>\n",
       "</div>"
      ],
      "text/plain": [
       "    S.no  Tiktoker name      Tiktok name  Subscribers  Views avg.  Likes avg.   \n",
       "0      1  jypestraykids       Stray Kids   13800000.0   6400000.0   2300000.0  \\\n",
       "1      2     khaby.lame     Khabane lame  149200000.0  17300000.0   2300000.0   \n",
       "10    11  charlidamelio  charli d’amelio  146200000.0  15200000.0    959400.0   \n",
       "11    12  amauryguichon   Amaury Guichon   14500000.0  11400000.0   1500000.0   \n",
       "13    14     kervo.dolo       Kervo.dolo   10300000.0   5700000.0   1300000.0   \n",
       "\n",
       "    Comments avg.  Shares avg.  Subscribers  \n",
       "0         50200.0      34200.0        13.8M  \n",
       "1         15200.0       8700.0       149.2M  \n",
       "10        20800.0       4600.0       146.2M  \n",
       "11         7200.0      11800.0        14.5M  \n",
       "13         7900.0      27600.0        10.3M  "
      ]
     },
     "execution_count": 60,
     "metadata": {},
     "output_type": "execute_result"
    }
   ],
   "source": [
    "nano_inf.head()"
   ]
  },
  {
   "cell_type": "code",
   "execution_count": 67,
   "id": "90f3cc17",
   "metadata": {},
   "outputs": [
    {
     "data": {
      "image/png": "[encoded data removed]",
      "text/plain": [
       "<Figure size 640x480 with 1 Axes>"
      ]
     },
     "metadata": {},
     "output_type": "display_data"
    }
   ],
   "source": [
    "import matplotlib.pyplot as plt\n",
    "\n",
    "# Data\n",
    "\n",
    "\n",
    "# Create the bar graph\n",
    "plt.scatter(nano_inf[ 'Views avg.'],nano_inf ['Likes avg.'])\n",
    "\n",
    "# Add title and labels\n",
    "plt.title('Sample Bar Graph')\n",
    "plt.xlabel('Categories')\n",
    "plt.ylabel('Values')\n",
    "\n",
    "# Show the graph\n",
    "plt.show()"
   ]
  },
  {
   "cell_type": "code",
   "execution_count": 62,
   "id": "2ad0afe2",
   "metadata": {},
   "outputs": [
    {
     "data": {
      "text/html": [
       "<div>\n",
       "<style scoped>\n",
       "    .dataframe tbody tr th:only-of-type {\n",
       "        vertical-align: middle;\n",
       "    }\n",
       "\n",
       "    .dataframe tbody tr th {\n",
       "        vertical-align: top;\n",
       "    }\n",
       "\n",
       "    .dataframe thead th {\n",
       "        text-align: right;\n",
       "    }\n",
       "</style>\n",
       "<table border=\"1\" class=\"dataframe\">\n",
       "  <thead>\n",
       "    <tr style=\"text-align: right;\">\n",
       "      <th></th>\n",
       "      <th>S.no</th>\n",
       "      <th>Tiktoker name</th>\n",
       "      <th>Tiktok name</th>\n",
       "      <th>Subscribers</th>\n",
       "      <th>Views avg.</th>\n",
       "      <th>Likes avg.</th>\n",
       "      <th>Comments avg.</th>\n",
       "      <th>Shares avg.</th>\n",
       "      <th>Subscribers</th>\n",
       "    </tr>\n",
       "  </thead>\n",
       "  <tbody>\n",
       "    <tr>\n",
       "      <th>2</th>\n",
       "      <td>3</td>\n",
       "      <td>scarlettsspam2</td>\n",
       "      <td>scarlett</td>\n",
       "      <td>2100000.0</td>\n",
       "      <td>17900000.0</td>\n",
       "      <td>845800.0</td>\n",
       "      <td>53900.0</td>\n",
       "      <td>6300.0</td>\n",
       "      <td>2.1M</td>\n",
       "    </tr>\n",
       "    <tr>\n",
       "      <th>4</th>\n",
       "      <td>5</td>\n",
       "      <td>belindatok</td>\n",
       "      <td>Belinda</td>\n",
       "      <td>4800000.0</td>\n",
       "      <td>14200000.0</td>\n",
       "      <td>1500000.0</td>\n",
       "      <td>14500.0</td>\n",
       "      <td>15300.0</td>\n",
       "      <td>4.8M</td>\n",
       "    </tr>\n",
       "    <tr>\n",
       "      <th>6</th>\n",
       "      <td>7</td>\n",
       "      <td>therock</td>\n",
       "      <td>The Rock</td>\n",
       "      <td>55400000.0</td>\n",
       "      <td>13100000.0</td>\n",
       "      <td>1500000.0</td>\n",
       "      <td>14300.0</td>\n",
       "      <td>11900.0</td>\n",
       "      <td>55.4M</td>\n",
       "    </tr>\n",
       "    <tr>\n",
       "      <th>7</th>\n",
       "      <td>8</td>\n",
       "      <td>bizarrap</td>\n",
       "      <td>bzrp</td>\n",
       "      <td>5800000.0</td>\n",
       "      <td>16200000.0</td>\n",
       "      <td>2700000.0</td>\n",
       "      <td>4200.0</td>\n",
       "      <td>6900.0</td>\n",
       "      <td>5.8M</td>\n",
       "    </tr>\n",
       "    <tr>\n",
       "      <th>8</th>\n",
       "      <td>9</td>\n",
       "      <td>landonbarkerr</td>\n",
       "      <td>Landon Barker</td>\n",
       "      <td>3800000.0</td>\n",
       "      <td>11700000.0</td>\n",
       "      <td>1200000.0</td>\n",
       "      <td>19100.0</td>\n",
       "      <td>15200.0</td>\n",
       "      <td>3.8M</td>\n",
       "    </tr>\n",
       "  </tbody>\n",
       "</table>\n",
       "</div>"
      ],
      "text/plain": [
       "   S.no   Tiktoker name    Tiktok name Subscribers  Views avg.  Likes avg.   \n",
       "2     3  scarlettsspam2       scarlett   2100000.0  17900000.0    845800.0  \\\n",
       "4     5      belindatok        Belinda   4800000.0  14200000.0   1500000.0   \n",
       "6     7         therock       The Rock  55400000.0  13100000.0   1500000.0   \n",
       "7     8        bizarrap           bzrp   5800000.0  16200000.0   2700000.0   \n",
       "8     9   landonbarkerr  Landon Barker   3800000.0  11700000.0   1200000.0   \n",
       "\n",
       "   Comments avg.  Shares avg.  Subscribers  \n",
       "2        53900.0       6300.0         2.1M  \n",
       "4        14500.0      15300.0         4.8M  \n",
       "6        14300.0      11900.0        55.4M  \n",
       "7         4200.0       6900.0         5.8M  \n",
       "8        19100.0      15200.0         3.8M  "
      ]
     },
     "execution_count": 62,
     "metadata": {},
     "output_type": "execute_result"
    }
   ],
   "source": [
    "micro_inf.head()"
   ]
  },
  {
   "cell_type": "code",
   "execution_count": 63,
   "id": "084643c1",
   "metadata": {},
   "outputs": [
    {
     "data": {
      "text/plain": [
       "(481, 9)"
      ]
     },
     "execution_count": 63,
     "metadata": {},
     "output_type": "execute_result"
    }
   ],
   "source": [
    "micro_inf.shape"
   ]
  },
  {
   "cell_type": "code",
   "execution_count": 22,
   "id": "6544296b",
   "metadata": {},
   "outputs": [
    {
     "data": {
      "text/plain": [
       "(303, 9)"
      ]
     },
     "execution_count": 22,
     "metadata": {},
     "output_type": "execute_result"
    }
   ],
   "source": [
    "nano_inf.shape"
   ]
  },
  {
   "cell_type": "code",
   "execution_count": 23,
   "id": "d280adec",
   "metadata": {},
   "outputs": [],
   "source": [
    "from sklearn.model_selection import train_test_split\n",
    "from sklearn.metrics import mean_squared_error, r2_score\n",
    "import matplotlib.pyplot as plt\n"
   ]
  },
  {
   "cell_type": "code",
   "execution_count": 24,
   "id": "46c56e29",
   "metadata": {},
   "outputs": [],
   "source": [
    "X =micro_inf[[ 'Views avg.', 'Likes avg.','Comments avg.','Shares avg.']]\n",
    "#X = micro_inf['Shares avg.'].astype(float)  # Replace with your actual feature columns\n",
    "y = micro_inf['Subscribers']  # Replace with your actual target column\n"
   ]
  },
  {
   "cell_type": "code",
   "execution_count": 25,
   "id": "306ecc6d",
   "metadata": {},
   "outputs": [],
   "source": [
    "# Split the data into training (80%) and testing (20%) sets\n",
    "X_train, X_test, y_train, y_test = train_test_split(X, y, test_size=0.2, random_state=42)\n"
   ]
  },
  {
   "cell_type": "code",
   "execution_count": 26,
   "id": "d73a1dfd",
   "metadata": {},
   "outputs": [
    {
     "data": {
      "text/plain": [
       "<bound method DataFrame.info of      Views avg.  Likes avg.  Comments avg.  Shares avg.\n",
       "439   2800000.0    189800.0         2400.0       1900.0\n",
       "989   1900000.0    133600.0          382.0       1900.0\n",
       "79    5500000.0    802300.0         1600.0       4400.0\n",
       "516   1500000.0    341000.0         1600.0       1700.0\n",
       "823   1800000.0    239700.0          837.0       1100.0\n",
       "..          ...         ...            ...          ...\n",
       "199   5000000.0    492500.0         2200.0        708.0\n",
       "531   1800000.0    332600.0         1100.0       1700.0\n",
       "699   1400000.0    235400.0         1400.0       1800.0\n",
       "903   1300000.0    241800.0         1400.0        821.0\n",
       "192   2400000.0    458100.0         1600.0       5200.0\n",
       "\n",
       "[384 rows x 4 columns]>"
      ]
     },
     "execution_count": 26,
     "metadata": {},
     "output_type": "execute_result"
    }
   ],
   "source": [
    "X_train.info"
   ]
  },
  {
   "cell_type": "code",
   "execution_count": 27,
   "id": "718f6ba8",
   "metadata": {},
   "outputs": [
    {
     "data": {
      "text/html": [
       "<style>#sk-container-id-1 {color: black;background-color: white;}#sk-container-id-1 pre{padding: 0;}#sk-container-id-1 div.sk-toggleable {background-color: white;}#sk-container-id-1 label.sk-toggleable__label {cursor: pointer;display: block;width: 100%;margin-bottom: 0;padding: 0.3em;box-sizing: border-box;text-align: center;}#sk-container-id-1 label.sk-toggleable__label-arrow:before {content: \"▸\";float: left;margin-right: 0.25em;color: #696969;}#sk-container-id-1 label.sk-toggleable__label-arrow:hover:before {color: black;}#sk-container-id-1 div.sk-estimator:hover label.sk-toggleable__label-arrow:before {color: black;}#sk-container-id-1 div.sk-toggleable__content {max-height: 0;max-width: 0;overflow: hidden;text-align: left;background-color: #f0f8ff;}#sk-container-id-1 div.sk-toggleable__content pre {margin: 0.2em;color: black;border-radius: 0.25em;background-color: #f0f8ff;}#sk-container-id-1 input.sk-toggleable__control:checked~div.sk-toggleable__content {max-height: 200px;max-width: 100%;overflow: auto;}#sk-container-id-1 input.sk-toggleable__control:checked~label.sk-toggleable__label-arrow:before {content: \"▾\";}#sk-container-id-1 div.sk-estimator input.sk-toggleable__control:checked~label.sk-toggleable__label {background-color: #d4ebff;}#sk-container-id-1 div.sk-label input.sk-toggleable__control:checked~label.sk-toggleable__label {background-color: #d4ebff;}#sk-container-id-1 input.sk-hidden--visually {border: 0;clip: rect(1px 1px 1px 1px);clip: rect(1px, 1px, 1px, 1px);height: 1px;margin: -1px;overflow: hidden;padding: 0;position: absolute;width: 1px;}#sk-container-id-1 div.sk-estimator {font-family: monospace;background-color: #f0f8ff;border: 1px dotted black;border-radius: 0.25em;box-sizing: border-box;margin-bottom: 0.5em;}#sk-container-id-1 div.sk-estimator:hover {background-color: #d4ebff;}#sk-container-id-1 div.sk-parallel-item::after {content: \"\";width: 100%;border-bottom: 1px solid gray;flex-grow: 1;}#sk-container-id-1 div.sk-label:hover label.sk-toggleable__label {background-color: #d4ebff;}#sk-container-id-1 div.sk-serial::before {content: \"\";position: absolute;border-left: 1px solid gray;box-sizing: border-box;top: 0;bottom: 0;left: 50%;z-index: 0;}#sk-container-id-1 div.sk-serial {display: flex;flex-direction: column;align-items: center;background-color: white;padding-right: 0.2em;padding-left: 0.2em;position: relative;}#sk-container-id-1 div.sk-item {position: relative;z-index: 1;}#sk-container-id-1 div.sk-parallel {display: flex;align-items: stretch;justify-content: center;background-color: white;position: relative;}#sk-container-id-1 div.sk-item::before, #sk-container-id-1 div.sk-parallel-item::before {content: \"\";position: absolute;border-left: 1px solid gray;box-sizing: border-box;top: 0;bottom: 0;left: 50%;z-index: -1;}#sk-container-id-1 div.sk-parallel-item {display: flex;flex-direction: column;z-index: 1;position: relative;background-color: white;}#sk-container-id-1 div.sk-parallel-item:first-child::after {align-self: flex-end;width: 50%;}#sk-container-id-1 div.sk-parallel-item:last-child::after {align-self: flex-start;width: 50%;}#sk-container-id-1 div.sk-parallel-item:only-child::after {width: 0;}#sk-container-id-1 div.sk-dashed-wrapped {border: 1px dashed gray;margin: 0 0.4em 0.5em 0.4em;box-sizing: border-box;padding-bottom: 0.4em;background-color: white;}#sk-container-id-1 div.sk-label label {font-family: monospace;font-weight: bold;display: inline-block;line-height: 1.2em;}#sk-container-id-1 div.sk-label-container {text-align: center;}#sk-container-id-1 div.sk-container {/* jupyter's `normalize.less` sets `[hidden] { display: none; }` but bootstrap.min.css set `[hidden] { display: none !important; }` so we also need the `!important` here to be able to override the default hidden behavior on the sphinx rendered scikit-learn.org. See: https://github.com/scikit-learn/scikit-learn/issues/21755 */display: inline-block !important;position: relative;}#sk-container-id-1 div.sk-text-repr-fallback {display: none;}</style><div id=\"sk-container-id-1\" class=\"sk-top-container\"><div class=\"sk-text-repr-fallback\"><pre>LinearRegression()</pre><b>In a Jupyter environment, please rerun this cell to show the HTML representation or trust the notebook. <br />On GitHub, the HTML representation is unable to render, please try loading this page with nbviewer.org.</b></div><div class=\"sk-container\" hidden><div class=\"sk-item\"><div class=\"sk-estimator sk-toggleable\"><input class=\"sk-toggleable__control sk-hidden--visually\" id=\"sk-estimator-id-1\" type=\"checkbox\" checked><label for=\"sk-estimator-id-1\" class=\"sk-toggleable__label sk-toggleable__label-arrow\">LinearRegression</label><div class=\"sk-toggleable__content\"><pre>LinearRegression()</pre></div></div></div></div></div>"
      ],
      "text/plain": [
       "LinearRegression()"
      ]
     },
     "execution_count": 27,
     "metadata": {},
     "output_type": "execute_result"
    }
   ],
   "source": [
    "from sklearn.linear_model import LinearRegression\n",
    "\n",
    "model = LinearRegression()\n",
    "model.fit(X_train, y_train)\n"
   ]
  },
  {
   "cell_type": "code",
   "execution_count": 28,
   "id": "c3894c71",
   "metadata": {},
   "outputs": [],
   "source": [
    "y_pred = model.predict(X_test)\n"
   ]
  },
  {
   "cell_type": "code",
   "execution_count": 29,
   "id": "4a0e0165",
   "metadata": {},
   "outputs": [
    {
     "name": "stdout",
     "output_type": "stream",
     "text": [
      "Mean Squared Error (MSE): 114691767972054.44\n",
      "R-squared (R2): 0.06798580422927358\n"
     ]
    }
   ],
   "source": [
    "mse = mean_squared_error(y_test, y_pred)\n",
    "r2 = r2_score(y_test, y_pred)\n",
    "print(f\"Mean Squared Error (MSE): {mse}\")\n",
    "print(f\"R-squared (R2): {r2}\")"
   ]
  },
  {
   "cell_type": "code",
   "execution_count": 30,
   "id": "8d7fd106",
   "metadata": {},
   "outputs": [
    {
     "name": "stdout",
     "output_type": "stream",
     "text": [
      "Mean Squared Error (MSE): 114691767972054.44\n"
     ]
    }
   ],
   "source": [
    "from sklearn.metrics import mean_squared_error\n",
    "\n",
    "mse = mean_squared_error(y_test, y_pred)\n",
    "print(f\"Mean Squared Error (MSE): {mse}\")\n"
   ]
  },
  {
   "cell_type": "code",
   "execution_count": 31,
   "id": "52d37259",
   "metadata": {},
   "outputs": [
    {
     "name": "stderr",
     "output_type": "stream",
     "text": [
      "/opt/homebrew/Caskroom/miniforge/base/envs/jupy/lib/python3.8/site-packages/sklearn/base.py:439: UserWarning: X does not have valid feature names, but LinearRegression was fitted with feature names\n",
      "  warnings.warn(\n"
     ]
    }
   ],
   "source": [
    "y_pred = model.predict([[500,500,500,500]])"
   ]
  },
  {
   "cell_type": "code",
   "execution_count": 32,
   "id": "98ae8dd5",
   "metadata": {},
   "outputs": [],
   "source": [
    "X =nano_inf[[ 'Views avg.', 'Likes avg.','Comments avg.','Shares avg.']]\n",
    "#X = micro_inf['Shares avg.'].astype(float)  # Replace with your actual feature columns\n",
    "y = nano_inf['Subscribers']  # Replace with your actual target column\n"
   ]
  },
  {
   "cell_type": "code",
   "execution_count": 33,
   "id": "a5fcd7e3",
   "metadata": {},
   "outputs": [],
   "source": [
    "X_train, X_test, y_train, y_test = train_test_split(X, y, test_size=0.2, random_state=42)\n"
   ]
  },
  {
   "cell_type": "code",
   "execution_count": 34,
   "id": "438e5e23",
   "metadata": {},
   "outputs": [
    {
     "data": {
      "text/html": [
       "<style>#sk-container-id-2 {color: black;background-color: white;}#sk-container-id-2 pre{padding: 0;}#sk-container-id-2 div.sk-toggleable {background-color: white;}#sk-container-id-2 label.sk-toggleable__label {cursor: pointer;display: block;width: 100%;margin-bottom: 0;padding: 0.3em;box-sizing: border-box;text-align: center;}#sk-container-id-2 label.sk-toggleable__label-arrow:before {content: \"▸\";float: left;margin-right: 0.25em;color: #696969;}#sk-container-id-2 label.sk-toggleable__label-arrow:hover:before {color: black;}#sk-container-id-2 div.sk-estimator:hover label.sk-toggleable__label-arrow:before {color: black;}#sk-container-id-2 div.sk-toggleable__content {max-height: 0;max-width: 0;overflow: hidden;text-align: left;background-color: #f0f8ff;}#sk-container-id-2 div.sk-toggleable__content pre {margin: 0.2em;color: black;border-radius: 0.25em;background-color: #f0f8ff;}#sk-container-id-2 input.sk-toggleable__control:checked~div.sk-toggleable__content {max-height: 200px;max-width: 100%;overflow: auto;}#sk-container-id-2 input.sk-toggleable__control:checked~label.sk-toggleable__label-arrow:before {content: \"▾\";}#sk-container-id-2 div.sk-estimator input.sk-toggleable__control:checked~label.sk-toggleable__label {background-color: #d4ebff;}#sk-container-id-2 div.sk-label input.sk-toggleable__control:checked~label.sk-toggleable__label {background-color: #d4ebff;}#sk-container-id-2 input.sk-hidden--visually {border: 0;clip: rect(1px 1px 1px 1px);clip: rect(1px, 1px, 1px, 1px);height: 1px;margin: -1px;overflow: hidden;padding: 0;position: absolute;width: 1px;}#sk-container-id-2 div.sk-estimator {font-family: monospace;background-color: #f0f8ff;border: 1px dotted black;border-radius: 0.25em;box-sizing: border-box;margin-bottom: 0.5em;}#sk-container-id-2 div.sk-estimator:hover {background-color: #d4ebff;}#sk-container-id-2 div.sk-parallel-item::after {content: \"\";width: 100%;border-bottom: 1px solid gray;flex-grow: 1;}#sk-container-id-2 div.sk-label:hover label.sk-toggleable__label {background-color: #d4ebff;}#sk-container-id-2 div.sk-serial::before {content: \"\";position: absolute;border-left: 1px solid gray;box-sizing: border-box;top: 0;bottom: 0;left: 50%;z-index: 0;}#sk-container-id-2 div.sk-serial {display: flex;flex-direction: column;align-items: center;background-color: white;padding-right: 0.2em;padding-left: 0.2em;position: relative;}#sk-container-id-2 div.sk-item {position: relative;z-index: 1;}#sk-container-id-2 div.sk-parallel {display: flex;align-items: stretch;justify-content: center;background-color: white;position: relative;}#sk-container-id-2 div.sk-item::before, #sk-container-id-2 div.sk-parallel-item::before {content: \"\";position: absolute;border-left: 1px solid gray;box-sizing: border-box;top: 0;bottom: 0;left: 50%;z-index: -1;}#sk-container-id-2 div.sk-parallel-item {display: flex;flex-direction: column;z-index: 1;position: relative;background-color: white;}#sk-container-id-2 div.sk-parallel-item:first-child::after {align-self: flex-end;width: 50%;}#sk-container-id-2 div.sk-parallel-item:last-child::after {align-self: flex-start;width: 50%;}#sk-container-id-2 div.sk-parallel-item:only-child::after {width: 0;}#sk-container-id-2 div.sk-dashed-wrapped {border: 1px dashed gray;margin: 0 0.4em 0.5em 0.4em;box-sizing: border-box;padding-bottom: 0.4em;background-color: white;}#sk-container-id-2 div.sk-label label {font-family: monospace;font-weight: bold;display: inline-block;line-height: 1.2em;}#sk-container-id-2 div.sk-label-container {text-align: center;}#sk-container-id-2 div.sk-container {/* jupyter's `normalize.less` sets `[hidden] { display: none; }` but bootstrap.min.css set `[hidden] { display: none !important; }` so we also need the `!important` here to be able to override the default hidden behavior on the sphinx rendered scikit-learn.org. See: https://github.com/scikit-learn/scikit-learn/issues/21755 */display: inline-block !important;position: relative;}#sk-container-id-2 div.sk-text-repr-fallback {display: none;}</style><div id=\"sk-container-id-2\" class=\"sk-top-container\"><div class=\"sk-text-repr-fallback\"><pre>LinearRegression()</pre><b>In a Jupyter environment, please rerun this cell to show the HTML representation or trust the notebook. <br />On GitHub, the HTML representation is unable to render, please try loading this page with nbviewer.org.</b></div><div class=\"sk-container\" hidden><div class=\"sk-item\"><div class=\"sk-estimator sk-toggleable\"><input class=\"sk-toggleable__control sk-hidden--visually\" id=\"sk-estimator-id-2\" type=\"checkbox\" checked><label for=\"sk-estimator-id-2\" class=\"sk-toggleable__label sk-toggleable__label-arrow\">LinearRegression</label><div class=\"sk-toggleable__content\"><pre>LinearRegression()</pre></div></div></div></div></div>"
      ],
      "text/plain": [
       "LinearRegression()"
      ]
     },
     "execution_count": 34,
     "metadata": {},
     "output_type": "execute_result"
    }
   ],
   "source": [
    "model = LinearRegression()\n",
    "model.fit(X_train, y_train)"
   ]
  },
  {
   "cell_type": "code",
   "execution_count": 35,
   "id": "e3a0b2fc",
   "metadata": {},
   "outputs": [],
   "source": [
    "y_pred = model.predict(X_test)\n"
   ]
  },
  {
   "cell_type": "code",
   "execution_count": 36,
   "id": "8239643c",
   "metadata": {},
   "outputs": [
    {
     "name": "stdout",
     "output_type": "stream",
     "text": [
      "Mean Squared Error (MSE): 59725976798766.86\n",
      "R-squared (R2): -0.37715488847573475\n"
     ]
    }
   ],
   "source": [
    "mse = mean_squared_error(y_test, y_pred)\n",
    "r2 = r2_score(y_test, y_pred)\n",
    "print(f\"Mean Squared Error (MSE): {mse}\")\n",
    "print(f\"R-squared (R2): {r2}\")"
   ]
  },
  {
   "cell_type": "code",
   "execution_count": 37,
   "id": "7916c6ca",
   "metadata": {},
   "outputs": [
    {
     "name": "stdout",
     "output_type": "stream",
     "text": [
      "Mean Squared Error (MSE): 59725976798766.86\n"
     ]
    }
   ],
   "source": [
    "from sklearn.metrics import mean_squared_error\n",
    "\n",
    "mse = mean_squared_error(y_test, y_pred)\n",
    "print(f\"Mean Squared Error (MSE): {mse}\")\n"
   ]
  },
  {
   "cell_type": "code",
   "execution_count": 38,
   "id": "81959b8d",
   "metadata": {},
   "outputs": [
    {
     "name": "stderr",
     "output_type": "stream",
     "text": [
      "/opt/homebrew/Caskroom/miniforge/base/envs/jupy/lib/python3.8/site-packages/sklearn/base.py:439: UserWarning: X does not have valid feature names, but LinearRegression was fitted with feature names\n",
      "  warnings.warn(\n"
     ]
    }
   ],
   "source": [
    "y_pred = model.predict([[500,500,500,500]])"
   ]
  },
  {
   "cell_type": "code",
   "execution_count": 39,
   "id": "3ac44547",
   "metadata": {},
   "outputs": [
    {
     "data": {
      "text/plain": [
       "array([-5226934.49252633])"
      ]
     },
     "execution_count": 39,
     "metadata": {},
     "output_type": "execute_result"
    }
   ],
   "source": [
    "y_pred"
   ]
  },
  {
   "cell_type": "code",
   "execution_count": 40,
   "id": "16eef5e1",
   "metadata": {},
   "outputs": [
    {
     "name": "stderr",
     "output_type": "stream",
     "text": [
      "/opt/homebrew/Caskroom/miniforge/base/envs/jupy/lib/python3.8/site-packages/sklearn/base.py:439: UserWarning: X does not have valid feature names, but LinearRegression was fitted with feature names\n",
      "  warnings.warn(\n"
     ]
    }
   ],
   "source": [
    "y_pred = model.predict([[5000,5000,5000,5000]])"
   ]
  },
  {
   "cell_type": "code",
   "execution_count": 41,
   "id": "a0f1dc17",
   "metadata": {},
   "outputs": [
    {
     "data": {
      "text/plain": [
       "array([-6816789.79552146])"
      ]
     },
     "execution_count": 41,
     "metadata": {},
     "output_type": "execute_result"
    }
   ],
   "source": [
    "y_pred"
   ]
  },
  {
   "cell_type": "code",
   "execution_count": 78,
   "id": "749a2944",
   "metadata": {},
   "outputs": [
    {
     "data": {
      "image/png": "[encoded data removed]",
      "text/plain": [
       "<Figure size 640x480 with 1 Axes>"
      ]
     },
     "metadata": {},
     "output_type": "display_data"
    }
   ],
   "source": [
    "import matplotlib.pyplot as plt\n",
    "import numpy as np\n",
    "\n",
    "\n",
    "x = np.arange(len(nano_inf['Subscribers']))\n",
    "\n",
    "# Width of a bar\n",
    "width = 0.4\n",
    "\n",
    "# Plotting the bars\n",
    "plt.bar(x - width/2,nano_inf['Views avg.'], width, label='Views', color='skyblue')\n",
    "plt.bar(x + width/2, nano_inf['Likes avg.'], width, label='Likes', color='lightgreen')\n",
    "\n",
    "\n",
    "# Add some text for labels, title, and axes ticks\n",
    "plt.xlabel('Subscribers')\n",
    "plt.ylabel('Counts')\n",
    "plt.title('Comparison of Likes and Views')\n",
    "plt.xticks(x, nano_inf['Subscribers'])\n",
    "plt.legend()\n",
    "\n",
    "# Show the plot\n",
    "plt.show()\n"
   ]
  },
  {
   "cell_type": "code",
   "execution_count": 79,
   "id": "ae18fa7a",
   "metadata": {},
   "outputs": [
    {
     "data": {
      "image/png": "[encoded data removed]",
      "text/plain": [
       "<Figure size 640x480 with 1 Axes>"
      ]
     },
     "metadata": {},
     "output_type": "display_data"
    }
   ],
   "source": [
    "plt.bar(x + width/2, nano_inf['Comments avg.'], width, label='Comments', color='blue')\n",
    "plt.bar(x + width/2, nano_inf['Shares avg.'], width, label='Shares', color='red')\n",
    "\n",
    "\n",
    "# Add some text for labels, title, and axes ticks\n",
    "plt.xlabel('Subscribers')\n",
    "plt.ylabel('Counts')\n",
    "plt.title('Comparison of comments and shares')\n",
    "plt.xticks(x, nano_inf['Subscribers'])\n",
    "plt.legend()\n",
    "\n",
    "# Show the plot\n",
    "plt.show()\n"
   ]
  },
  {
   "cell_type": "code",
   "execution_count": 82,
   "id": "701c5e3c",
   "metadata": {},
   "outputs": [
    {
     "data": {
      "image/png": "[encoded data removed]",
      "text/plain": [
       "<Figure size 640x480 with 1 Axes>"
      ]
     },
     "metadata": {},
     "output_type": "display_data"
    }
   ],
   "source": [
    "import matplotlib.pyplot as plt\n",
    "import numpy as np\n",
    "\n",
    "\n",
    "x = np.arange(len(micro_inf['Subscribers']))\n",
    "\n",
    "# Width of a bar\n",
    "width = 0.4\n",
    "\n",
    "# Plotting the bars\n",
    "plt.bar(x - width/2,micro_inf['Views avg.'], width, label='Views', color='skyblue')\n",
    "plt.bar(x + width/2, micro_inf['Likes avg.'], width, label='Likes', color='lightgreen')\n",
    "\n",
    "# Add some text for labels, title, and axes ticks\n",
    "plt.xlabel('Subscribers')\n",
    "plt.ylabel('Counts')\n",
    "plt.title('Comparison of Likes and Views')\n",
    "plt.xticks(x, micro_inf['Subscribers'])\n",
    "plt.legend()\n",
    "\n",
    "# Show the plot\n",
    "plt.show()\n"
   ]
  },
  {
   "cell_type": "code",
   "execution_count": 84,
   "id": "782711fe",
   "metadata": {},
   "outputs": [
    {
     "data": {
      "image/png": "[encoded data removed]",
      "text/plain": [
       "<Figure size 640x480 with 1 Axes>"
      ]
     },
     "metadata": {},
     "output_type": "display_data"
    }
   ],
   "source": [
    "plt.bar(x + width/2, micro_inf['Comments avg.'], width, label='Comments', color='blue')\n",
    "plt.bar(x + width/2, micro_inf['Shares avg.'], width, label='Shares', color='red')\n",
    "# Add some text for labels, title, and axes ticks\n",
    "plt.xlabel('Subscribers')\n",
    "plt.ylabel('Counts')\n",
    "plt.title('Comparison of comments and shares')\n",
    "plt.xticks(x, micro_inf['Subscribers'])\n",
    "plt.legend()\n",
    "\n",
    "# Show the plot\n",
    "plt.show()\n",
    "\n"
   ]
  },
  {
   "cell_type": "code",
   "execution_count": null,
   "id": "30d27a70",
   "metadata": {},
   "outputs": [],
   "source": []
  }
 ],
 "metadata": {
  "kernelspec": {
   "display_name": "Python 3 (ipykernel)",
   "language": "python",
   "name": "python3"
  },
  "language_info": {
   "codemirror_mode": {
    "name": "ipython",
    "version": 3
   },
   "file_extension": ".py",
   "mimetype": "text/x-python",
   "name": "python",
   "nbconvert_exporter": "python",
   "pygments_lexer": "ipython3",
   "version": "3.8.16"
  }
 },
 "nbformat": 4,
 "nbformat_minor": 5
}
